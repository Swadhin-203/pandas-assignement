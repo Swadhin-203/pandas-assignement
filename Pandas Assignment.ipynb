{
 "cells": [
  {
   "cell_type": "code",
   "execution_count": 13,
   "id": "5975ea3c",
   "metadata": {},
   "outputs": [
    {
     "data": {
      "text/html": [
       "<div>\n",
       "<style scoped>\n",
       "    .dataframe tbody tr th:only-of-type {\n",
       "        vertical-align: middle;\n",
       "    }\n",
       "\n",
       "    .dataframe tbody tr th {\n",
       "        vertical-align: top;\n",
       "    }\n",
       "\n",
       "    .dataframe thead th {\n",
       "        text-align: right;\n",
       "    }\n",
       "</style>\n",
       "<table border=\"1\" class=\"dataframe\">\n",
       "  <thead>\n",
       "    <tr style=\"text-align: right;\">\n",
       "      <th></th>\n",
       "      <th>swadhin</th>\n",
       "      <th>jyoti</th>\n",
       "      <th>gugu</th>\n",
       "      <th>new</th>\n",
       "    </tr>\n",
       "  </thead>\n",
       "  <tbody>\n",
       "    <tr>\n",
       "      <th>0</th>\n",
       "      <td>2</td>\n",
       "      <td>1</td>\n",
       "      <td>1</td>\n",
       "      <td>3</td>\n",
       "    </tr>\n",
       "    <tr>\n",
       "      <th>1</th>\n",
       "      <td>0</td>\n",
       "      <td>8</td>\n",
       "      <td>4</td>\n",
       "      <td>8</td>\n",
       "    </tr>\n",
       "    <tr>\n",
       "      <th>2</th>\n",
       "      <td>3</td>\n",
       "      <td>9</td>\n",
       "      <td>3</td>\n",
       "      <td>12</td>\n",
       "    </tr>\n",
       "  </tbody>\n",
       "</table>\n",
       "</div>"
      ],
      "text/plain": [
       "   swadhin  jyoti  gugu  new\n",
       "0        2      1     1    3\n",
       "1        0      8     4    8\n",
       "2        3      9     3   12"
      ]
     },
     "execution_count": 13,
     "metadata": {},
     "output_type": "execute_result"
    }
   ],
   "source": [
    "# Q-1List any five functions of the pandas library with execution.\n",
    "data={\"swadhin\":(2,0,3),\n",
    "     \"jyoti\":(1,8,9),\n",
    "     \"gugu\":(1,4,3)}\n",
    "import pandas as pd\n",
    "pd.Series(data)\n",
    "df=pd.DataFrame(data)\n",
    "df[[\"swadhin\"]]\n",
    "df.columns\n",
    "df[\"jyoti\"]\n",
    "df[\"new\"]=df[\"swadhin\"]+df[\"jyoti\"]\n",
    "df"
   ]
  },
  {
   "cell_type": "code",
   "execution_count": null,
   "id": "d34a52bb",
   "metadata": {},
   "outputs": [],
   "source": [
    "# Q2. Given a Pandas DataFrame df with columns 'A', 'B', and 'C', write a Python function to re-index the\n",
    "# DataFrame with a new index that starts from 1 and increments by 2 for each row.\n",
    "import pandas as pd\n",
    "\n",
    "def reindex_df(df):\n",
    "    new_index = pd.Index(range(1, len(df)*2, 2))\n",
    "    df = df.set_index(new_index)\n",
    "    return df\n"
   ]
  },
  {
   "cell_type": "code",
   "execution_count": 44,
   "id": "249f0a31",
   "metadata": {},
   "outputs": [],
   "source": [
    "# Q3. You have a Pandas DataFrame df with a column named 'Values'. Write a Python function that\n",
    "# iterates over the DataFrame and calculates the sum of the first three values in the 'Values' column. The\n",
    "# function should print the sum to the console.\n",
    "# For example, if the 'Values' column of df contains the values [10, 20, 30, 40, 50], your function should\n",
    "# calculate and print the sum of the first three values, which is 60.\n",
    "import pandas as pd\n",
    "\n",
    "def calculate_sum(df):\n",
    "    values_sum = 0\n",
    "    for i, row in df.iterrows():\n",
    "        if i < 3:\n",
    "            values_sum += row['Values']\n",
    "        else:\n",
    "            break\n",
    "    print(\"The sum of the first three values in the 'Values' column is:\" ,values_sum)\n"
   ]
  },
  {
   "cell_type": "code",
   "execution_count": 46,
   "id": "f6d244a2",
   "metadata": {},
   "outputs": [],
   "source": [
    "# Q4. Given a Pandas DataFrame df with a column 'Text', write a Python function to create a new column\n",
    "# 'Word_Count' that contains the number of words in each row of the 'Text' column.\n",
    "df['word_count'] = df['desc'].apply(lambda x : len(x.split()))"
   ]
  },
  {
   "cell_type": "markdown",
   "id": "f5449219",
   "metadata": {},
   "source": [
    "Q5. How are DataFrame.size() and DataFrame.shape() different?\n",
    "Ans:DataFrame.size() and DataFrame.shape() are both methods used in Pandas to obtain information about the DataFrame. However, they return different values and have different meanings.\n",
    "\n",
    "DataFrame.size() returns the total number of elements in the DataFrame. It is equivalent to the product of the number of rows and the number of columns. For example, if a DataFrame has 5 rows and 3 columns, DataFrame.size() will return 15.\n",
    "\n",
    "On the other hand, DataFrame.shape() returns a tuple containing the number of rows and columns in the DataFrame. For example, if a DataFrame has 5 rows and 3 columns, DataFrame.shape() will return (5, 3)."
   ]
  },
  {
   "cell_type": "markdown",
   "id": "0d166438",
   "metadata": {},
   "source": [
    "Q6. Which function of pandas do we use to read an excel file?\n",
    "Ans:The function used to read an Excel file in Pandas is read_excel(). This function is part of the pandas module, and can be called by importing the module and using the function with the appropriate parameters."
   ]
  },
  {
   "cell_type": "code",
   "execution_count": 52,
   "id": "721c3a2c",
   "metadata": {},
   "outputs": [],
   "source": [
    "# Q7. You have a Pandas DataFrame df that contains a column named 'Email' that contains email\n",
    "# addresses in the format 'username@domain.com'. Write a Python function that creates a new column\n",
    "# 'Username' in df that contains only the username part of each email address.\n",
    "import pandas as pd\n",
    "def extract_username(df):\n",
    "    df['Username'] = df['Email'].str.split('@').str[0]\n",
    "    return df\n"
   ]
  },
  {
   "cell_type": "code",
   "execution_count": 71,
   "id": "230bdd51",
   "metadata": {},
   "outputs": [
    {
     "data": {
      "text/html": [
       "<div>\n",
       "<style scoped>\n",
       "    .dataframe tbody tr th:only-of-type {\n",
       "        vertical-align: middle;\n",
       "    }\n",
       "\n",
       "    .dataframe tbody tr th {\n",
       "        vertical-align: top;\n",
       "    }\n",
       "\n",
       "    .dataframe thead th {\n",
       "        text-align: right;\n",
       "    }\n",
       "</style>\n",
       "<table border=\"1\" class=\"dataframe\">\n",
       "  <thead>\n",
       "    <tr style=\"text-align: right;\">\n",
       "      <th></th>\n",
       "      <th>A</th>\n",
       "      <th>B</th>\n",
       "      <th>new</th>\n",
       "    </tr>\n",
       "  </thead>\n",
       "  <tbody>\n",
       "    <tr>\n",
       "      <th>0</th>\n",
       "      <td>0</td>\n",
       "      <td>3</td>\n",
       "      <td>False</td>\n",
       "    </tr>\n",
       "    <tr>\n",
       "      <th>1</th>\n",
       "      <td>1</td>\n",
       "      <td>8</td>\n",
       "      <td>False</td>\n",
       "    </tr>\n",
       "    <tr>\n",
       "      <th>2</th>\n",
       "      <td>2</td>\n",
       "      <td>6</td>\n",
       "      <td>False</td>\n",
       "    </tr>\n",
       "    <tr>\n",
       "      <th>3</th>\n",
       "      <td>3</td>\n",
       "      <td>2</td>\n",
       "      <td>False</td>\n",
       "    </tr>\n",
       "    <tr>\n",
       "      <th>4</th>\n",
       "      <td>4</td>\n",
       "      <td>9</td>\n",
       "      <td>False</td>\n",
       "    </tr>\n",
       "  </tbody>\n",
       "</table>\n",
       "</div>"
      ],
      "text/plain": [
       "   A  B    new\n",
       "0  0  3  False\n",
       "1  1  8  False\n",
       "2  2  6  False\n",
       "3  3  2  False\n",
       "4  4  9  False"
      ]
     },
     "execution_count": 71,
     "metadata": {},
     "output_type": "execute_result"
    }
   ],
   "source": [
    "# Q8. You have a Pandas DataFrame df with columns 'A', 'B', and 'C'. Write a Python function that selects\n",
    "# all rows where the value in column 'A' is greater than 5 and the value in column 'B' is less than 10. The\n",
    "# function should return a new DataFrame that contains only the selected rows.\n",
    "# For example, if df contains the following values:\n",
    "# A B C\n",
    "# 0 3 5 1\n",
    "# 1 8 2 7\n",
    "# 2 6 9 4\n",
    "# 3 2 3 5\n",
    "# 4 9 1 2\n",
    "# Your function should select the following rows: A B C\n",
    "# 1 8 2 7\n",
    "# 4 9 1 2\n",
    "# The function should return a new DataFrame that contains only the selected rows.\n",
    "data={\"A\":(0,1,2,3,4),\n",
    "     \"B\":(3,8,6,2,9)}\n",
    "df=pd.DataFrame(data)\n",
    "df[\"new\"]=df[\"A\"].apply(lambda x: x>5)\n",
    "d\n",
    "\n",
    "df"
   ]
  },
  {
   "cell_type": "code",
   "execution_count": 74,
   "id": "e6e9e2d1",
   "metadata": {},
   "outputs": [],
   "source": [
    "# Q9. Given a Pandas DataFrame df with a column 'Values', write a Python function to calculate the mean,\n",
    "# median, and standard deviation of the values in the 'Values' column.\n",
    "\n",
    "import pandas as pd\n",
    "\n",
    "def calculate_stats(df):\n",
    "    values_mean = df['Values'].mean()\n",
    "    values_median = df['Values'].median()\n",
    "    values_std = df['Values'].std()\n",
    "    stats_df = pd.DataFrame({'Mean': [values_mean], 'Median': [values_median], 'Standard Deviation': [values_std]})\n",
    "    return stats_df\n"
   ]
  },
  {
   "cell_type": "code",
   "execution_count": null,
   "id": "c44bbd70",
   "metadata": {},
   "outputs": [],
   "source": [
    "# Q10. Given a Pandas DataFrame df with a column 'Sales' and a column 'Date', write a Python function to\n",
    "# create a new column 'MovingAverage' that contains the moving average of the sales for the past 7 days\n",
    "# for each row in the DataFrame. The moving average should be calculated using a window of size 7 and\n",
    "# should include the current day.\n",
    "import pandas as pd\n",
    "\n",
    "def add_moving_average(df):\n",
    "    window_size = 7\n",
    "    rolling_mean = df['Sales'].rolling(window=window_size, min_periods=1).mean()\n",
    "    df['MovingAverage'] = rolling_mean\n",
    "    return df\n"
   ]
  },
  {
   "cell_type": "code",
   "execution_count": null,
   "id": "8637915e",
   "metadata": {},
   "outputs": [],
   "source": [
    "# Q11. You have a Pandas DataFrame df with a column 'Date'. Write a Python function that creates a new\n",
    "# column 'Weekday' in the DataFrame. The 'Weekday' column should contain the weekday name (e.g.\n",
    "# Monday, Tuesday) corresponding to each date in the 'Date' column.\n",
    "import pandas as pd\n",
    "\n",
    "def add_weekday_column(df):\n",
    "    df['Weekday'] = df['Date'].dt.weekday_name\n",
    "    return df\n"
   ]
  },
  {
   "cell_type": "code",
   "execution_count": null,
   "id": "6298fa93",
   "metadata": {},
   "outputs": [],
   "source": [
    "# Q12. Given a Pandas DataFrame df with a column 'Date' that contains timestamps, write a Python\n",
    "# function to select all rows where the date is between '2023-01-01' and '2023-01-31'.\n",
    "import pandas as pd\n",
    "\n",
    "def select_rows_between_dates(df):\n",
    "    start_date = '2023-01-01'\n",
    "    end_date = '2023-01-31'\n",
    "    mask = (df['Date'] >= start_date) & (df['Date'] <= end_date)\n",
    "    selected_rows = df.loc[mask]\n",
    "    return selected_rows\n"
   ]
  },
  {
   "cell_type": "markdown",
   "id": "bb0c02ef",
   "metadata": {},
   "source": [
    " Q13. To use the basic functions of pandas, what is the first and foremost necessary library that needs to\n",
    "be imported?\n",
    "Ans:The first and foremost necessary library that needs to be imported to use the basic functions of pandas is pandas itself. This imports the pandas library and gives it an alias pd, which is the common convention in the Python community. By using this alias, you can access all the functions and classes provided by pandas, such as DataFrame, Series, read_csv(), read_excel(), and many others."
   ]
  }
 ],
 "metadata": {
  "kernelspec": {
   "display_name": "Python 3 (ipykernel)",
   "language": "python",
   "name": "python3"
  },
  "language_info": {
   "codemirror_mode": {
    "name": "ipython",
    "version": 3
   },
   "file_extension": ".py",
   "mimetype": "text/x-python",
   "name": "python",
   "nbconvert_exporter": "python",
   "pygments_lexer": "ipython3",
   "version": "3.10.5"
  }
 },
 "nbformat": 4,
 "nbformat_minor": 5
}
